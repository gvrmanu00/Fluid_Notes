{
 "cells": [
  {
   "cell_type": "markdown",
   "id": "1cc489b6-0998-4c26-9273-fc65293ac8b9",
   "metadata": {},
   "source": [
    "# Welcome to Fluid Dynamics 101 🌊\n",
    "\n",
    "This notebook introduces basic concepts in fluid mechanics using Python!\n",
    "\n",
    "## Topics Covered\n",
    "- Scalar and vector fields\n",
    "- Gradient, divergence, and curl\n",
    "- Visualization with matplotlib\n",
    "\n",
    "**Author:** Manu KV  \n",
    "**Date:** April 23, 2025\n"
   ]
  },
  {
   "cell_type": "markdown",
   "id": "d73cd2db-23e6-4553-bab2-8ba98c2bc2ef",
   "metadata": {},
   "source": [
    "# PURPOSE OF LESSON\n",
    "\n",
    "- Overview of Fluid Mechanics\n",
    "- Importance of Fluid Mechanics and Applications\n",
    "- Solids, liquids, and gases\n",
    "- Continuum Hypothesis\n",
    "\n",
    "---\n",
    "\n",
    "> **Quote:** Masters today were starters yesterday, so begin now. — *Bernard Kelvin Clive*\n",
    "\n",
    "---\n",
    "\n",
    "## Overview of Fluid Mechanics\n",
    "Fluid mechanics is something you're intuitively familiar with through daily experiences. This course builds the quantitative understanding needed to apply fluid mechanics in engineering systems.\n",
    "\n",
    "It covers fluids at rest (statics) and in motion (dynamics), and fluid-solid interactions. Key areas include:\n",
    "- **Hydrodynamics:** Flow of incompressible liquids.\n",
    "- **Hydraulics:** Liquid flow in pipes and channels.\n",
    "- **Gas dynamics:** Compressible flow of gases.\n",
    "- **Aerodynamics:** Air flow over bodies.\n",
    "- **Meteorology, oceanography, hydrology:** Natural fluid flow disciplines.\n",
    "\n",
    "---\n",
    "\n",
    "## Importance of Fluid Mechanics and Applications\n",
    "Fluid mechanics is ancient in application—wind, water for transport, irrigation, etc. Today it impacts:\n",
    "- Transportation (airplanes, ships, cars)\n",
    "- Infrastructure and buildings\n",
    "- Power generation\n",
    "- Biomedical devices\n",
    "- Electronics and cooling\n",
    "- Weather and environmental systems\n",
    "\n",
    "---\n",
    "\n",
    "## Solids, Liquids, and Gases\n",
    "- **Solids:** Strong intermolecular forces, fixed shape, resist shear.\n",
    "- **Liquids:** Weaker cohesion, take shape of containers, maintain volume.\n",
    "- **Gases:** Negligible cohesion, fill containers, no free surface.\n",
    "\n",
    "Fluids deform continuously under shear. Solids do not. Gases expand; liquids maintain volume.\n",
    "\n",
    "---\n",
    "\n",
    "## Continuum Hypothesis\n",
    "Although fluids are made of molecules, for many problems we treat them as continuous.\n",
    "- **Microscopic view:** Tracks individual molecules (kinetic theory).\n",
    "- **Macroscopic view:** Uses averaged properties measurable by instruments.\n",
    "\n",
    "### Knudsen Number:\n",
    "\\( Kn = $\\frac{\\lambda}{l}$ \\)\n",
    "Where:\n",
    "- \\( $\\lambda $\\) = Mean free path\n",
    "- \\( l \\) = Characteristic length\n",
    "\n",
    "**Flow Regimes:**\n",
    "- \\( Kn < 0.01 \\): Continuum flow\n",
    "- \\( 0.01 < Kn < 0.1 \\): Slip flow\n",
    "- \\( 0.1 < Kn < 10 \\): Transitional flow\n",
    "- \\( Kn > 10 \\): Free-molecular flow\n",
    "\n",
    "---\n",
    "\n",
    "## PROBLEMS\n",
    "\n",
    "1. **Calculate Knudsen Number** for helium at 1 millitorr pressure in 0.1, 1, 10, and 100-mm diameter tubes. Classify flow model.\n",
    "\n",
    "2. **Three students debate the continuum hypothesis:**\n",
    "   - **Riya:** Valid if fluid is incompressible and homogeneous.\n",
    "   - **Aman:** Valid if system length \\( \\gg \\lambda \\).\n",
    "   - **Kavya:** Valid by time-averaging even when \\( Kn \\) is large.\n",
    "\n",
    "### Situations:\n",
    "- **Case A:** \\( L = 2 \\) m, \\( \\lambda = 6.5 \\times 10^{-8} \\) m\n",
    "- **Case B:** \\( L = 0.0005 \\) m, \\( \\lambda = 1.5 \\times 10^{-7} \\) m\n",
    "- **Case C:** \\( L = 0.005 \\) m, \\( \\lambda = 0.05 \\) m\n",
    "\n",
    "### Questions:\n",
    "- Compute \\( Kn \\) and classify flow regime for each case.\n",
    "- Who among the students is correct? Why?\n",
    "- Is Navier-Stokes valid in Case C?\n",
    "- In Case B, how would you modify the model if slip is significant?\n",
    "\n",
    "**Hint:** \\( Kn < 0.01 \\) → Continuum; \\( 0.01 < Kn < 0.1 \\) → Slip flow; \\( Kn > 0.1 \\) → Molecular model needed.\n",
    "\n",
    "---\n",
    "\n",
    "## Syllabus\n",
    "\n",
    "*Fluid properties, statics, kinematics (material derivative, rotation, deformation), Reynolds transport theorem, conservation laws, Navier-Stokes equations, exact solutions (steady/unsteady), potential flows, wave dynamics, boundary layer theory (Blasius), intro to turbulence.*\n",
    "\n",
    "---\n",
    "\n",
    "## Textbooks\n",
    "\n",
    "1. F. M. White, *Fluid Mechanics*, McGraw-Hill, 7th ed.\n",
    "2. B. R. Munson et al., *Fundamentals of Fluid Mechanics*, Wiley, 6th ed.\n",
    "3. Yunus Cengel & John Cimbala, *Fluid Mechanics: Fundamentals and Applications*, McGraw Hill\n",
    "4. James A. Fay, *Introduction to Fluid Mechanics*\n",
    "5. Vijay Gupta & Santosh Gupta, *Fluid Mechanics and Its Applications*\n",
    "6. Kundu, Cohen, and Dowling, *Fluid Mechanics*, Academic Press, 5th ed.\n",
    "\n"
   ]
  },
  {
   "cell_type": "code",
   "execution_count": 2,
   "id": "94e176d5-0bcb-466b-8134-f41997c734f7",
   "metadata": {},
   "outputs": [
    {
     "data": {
      "text/markdown": [
       "## 🧪 Knudsen Number Calculator"
      ],
      "text/plain": [
       "<IPython.core.display.Markdown object>"
      ]
     },
     "metadata": {},
     "output_type": "display_data"
    },
    {
     "data": {
      "application/vnd.jupyter.widget-view+json": {
       "model_id": "51e0b06b770348588011d0f940863403",
       "version_major": 2,
       "version_minor": 0
      },
      "text/plain": [
       "FloatText(value=1e-07, description='λ (m):')"
      ]
     },
     "metadata": {},
     "output_type": "display_data"
    },
    {
     "data": {
      "application/vnd.jupyter.widget-view+json": {
       "model_id": "1c4cbc7e447f4e1a95742635e4e9ce25",
       "version_major": 2,
       "version_minor": 0
      },
      "text/plain": [
       "FloatText(value=0.001, description='L (m):')"
      ]
     },
     "metadata": {},
     "output_type": "display_data"
    },
    {
     "data": {
      "application/vnd.jupyter.widget-view+json": {
       "model_id": "30af69d4b3da498b80b3066cff0e81d4",
       "version_major": 2,
       "version_minor": 0
      },
      "text/plain": [
       "Output()"
      ]
     },
     "metadata": {},
     "output_type": "display_data"
    }
   ],
   "source": [
    "import ipywidgets as widgets\n",
    "from IPython.display import display, Markdown\n",
    "\n",
    "# Input widgets\n",
    "lambda_input = widgets.FloatText(description='λ (m):', value=1e-7)\n",
    "length_input = widgets.FloatText(description='L (m):', value=1e-3)\n",
    "output = widgets.Output()\n",
    "\n",
    "# Function to calculate Kn and classify\n",
    "def classify_flow(change=None):\n",
    "    with output:\n",
    "        output.clear_output()\n",
    "        λ = lambda_input.value\n",
    "        L = length_input.value\n",
    "        if L == 0:\n",
    "            display(Markdown(\"**Error:** L cannot be zero.\"))\n",
    "            return\n",
    "        Kn = λ / L\n",
    "\n",
    "        if Kn < 0.01:\n",
    "            regime = \"Continuum Flow\"\n",
    "        elif Kn < 0.1:\n",
    "            regime = \"Slip Flow\"\n",
    "        elif Kn < 10:\n",
    "            regime = \"Transitional Flow\"\n",
    "        else:\n",
    "            regime = \"Free-Molecular Flow\"\n",
    "\n",
    "        display(Markdown(f\"### Knudsen Number: `{Kn:.4e}`\"))\n",
    "        display(Markdown(f\"**Flow Regime:** {regime}\"))\n",
    "\n",
    "# Observe changes and recalculate\n",
    "lambda_input.observe(classify_flow, names='value')\n",
    "length_input.observe(classify_flow, names='value')\n",
    "\n",
    "# Display UI\n",
    "display(Markdown(\"## 🧪 Knudsen Number Calculator\"))\n",
    "display(lambda_input, length_input, output)\n",
    "\n",
    "# Initial calculation\n",
    "classify_flow()\n"
   ]
  },
  {
   "cell_type": "code",
   "execution_count": null,
   "id": "095c5704-4723-43e2-9bf3-c3cb3846ae06",
   "metadata": {},
   "outputs": [],
   "source": []
  }
 ],
 "metadata": {
  "kernelspec": {
   "display_name": "Python 3 (ipykernel)",
   "language": "python",
   "name": "python3"
  },
  "language_info": {
   "codemirror_mode": {
    "name": "ipython",
    "version": 3
   },
   "file_extension": ".py",
   "mimetype": "text/x-python",
   "name": "python",
   "nbconvert_exporter": "python",
   "pygments_lexer": "ipython3",
   "version": "3.12.7"
  }
 },
 "nbformat": 4,
 "nbformat_minor": 5
}
